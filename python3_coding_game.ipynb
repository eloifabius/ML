{
  "cells": [
    {
      "cell_type": "markdown",
      "metadata": {
        "id": "view-in-github",
        "colab_type": "text"
      },
      "source": [
        "<a href=\"https://colab.research.google.com/github/eloifabius/ML/blob/main/python3_coding_game.ipynb\" target=\"_parent\"><img src=\"https://colab.research.google.com/assets/colab-badge.svg\" alt=\"Open In Colab\"/></a>"
      ]
    },
    {
      "cell_type": "code",
      "source": [
        "tuple est immutable, list est mutable"
      ],
      "metadata": {
        "id": "c6d21pHWuvEm"
      },
      "execution_count": null,
      "outputs": []
    },
    {
      "cell_type": "markdown",
      "source": [
        ""
      ],
      "metadata": {
        "id": "zh4geGa2zMjK"
      }
    },
    {
      "cell_type": "code",
      "source": [
        "arr = [1,2,3]"
      ],
      "metadata": {
        "id": "TOMwA3zVzN73"
      },
      "execution_count": 1,
      "outputs": []
    },
    {
      "cell_type": "code",
      "source": [
        "arr.append(3)"
      ],
      "metadata": {
        "id": "9iPLEayvzb58"
      },
      "execution_count": 17,
      "outputs": []
    },
    {
      "cell_type": "code",
      "source": [
        "arr"
      ],
      "metadata": {
        "colab": {
          "base_uri": "https://localhost:8080/"
        },
        "id": "ytoLJnt5zgrU",
        "outputId": "8c7f1762-7be6-4be0-d56d-deb90c6e86a2"
      },
      "execution_count": 89,
      "outputs": [
        {
          "output_type": "execute_result",
          "data": {
            "text/plain": [
              "[1, 2, 3, 5, 3]"
            ]
          },
          "metadata": {},
          "execution_count": 89
        }
      ]
    },
    {
      "cell_type": "code",
      "source": [
        "def __foo__():\n",
        "  print('foo')"
      ],
      "metadata": {
        "id": "a06fWpuj8-3b"
      },
      "execution_count": 7,
      "outputs": []
    },
    {
      "cell_type": "code",
      "source": [
        "res = 3 in arr\n",
        "res"
      ],
      "metadata": {
        "colab": {
          "base_uri": "https://localhost:8080/"
        },
        "id": "8aqS8_bw9Jfl",
        "outputId": "2a91cb1f-0b39-4af9-e0eb-414df8dda444"
      },
      "execution_count": 19,
      "outputs": [
        {
          "output_type": "execute_result",
          "data": {
            "text/plain": [
              "True"
            ]
          },
          "metadata": {},
          "execution_count": 19
        }
      ]
    },
    {
      "cell_type": "code",
      "source": [
        "arr1 = [1, 7, 3, 4, 2, 6, 9]\n",
        "arr2 = [3, 3, 4, 6, 6, 9, 5]\n",
        "\n",
        "for i in arr2:\n",
        "  if not i in arr1:\n",
        "    print(i,\" is a endpoint\", arr2.index(i)) \n",
        "    break\n",
        "    "
      ],
      "metadata": {
        "colab": {
          "base_uri": "https://localhost:8080/"
        },
        "id": "0yiW9jUFB7on",
        "outputId": "00961b53-3fda-4592-dc39-d2e9e34948f5"
      },
      "execution_count": 88,
      "outputs": [
        {
          "output_type": "stream",
          "name": "stdout",
          "text": [
            "5  is a endpoint 6\n"
          ]
        }
      ]
    },
    {
      "cell_type": "code",
      "source": [
        "def is_bool(i, j):\n",
        "  return i == 1 or j == 1 or i+j == 1\n",
        "\n",
        "is_bool(-3, 4)"
      ],
      "metadata": {
        "colab": {
          "base_uri": "https://localhost:8080/"
        },
        "id": "J_agxdxCJdNU",
        "outputId": "a0dd4d44-e6dd-4cff-cd73-a1f5e07b8733"
      },
      "execution_count": 28,
      "outputs": [
        {
          "output_type": "execute_result",
          "data": {
            "text/plain": [
              "True"
            ]
          },
          "metadata": {},
          "execution_count": 28
        }
      ]
    },
    {
      "cell_type": "code",
      "source": [
        "def is_on_even_position(table, value):\n",
        "    return value in table and table.index(value) % 2 == 0\n",
        "  \n",
        "is_on_even_position(arr, 3)"
      ],
      "metadata": {
        "id": "hk-NTlgMiUeq",
        "outputId": "c2b8c2d5-096e-4ac0-8927-c5a25176ea60",
        "colab": {
          "base_uri": "https://localhost:8080/"
        }
      },
      "execution_count": 43,
      "outputs": [
        {
          "output_type": "execute_result",
          "data": {
            "text/plain": [
              "True"
            ]
          },
          "metadata": {},
          "execution_count": 43
        }
      ]
    },
    {
      "cell_type": "code",
      "source": [
        "def __contains__(self, item)"
      ],
      "metadata": {
        "id": "tKUkUuM1jTrb"
      },
      "execution_count": 43,
      "outputs": []
    },
    {
      "cell_type": "code",
      "source": [
        "r = arr1 + arr2"
      ],
      "metadata": {
        "id": "17N__R8xmfgb"
      },
      "execution_count": 62,
      "outputs": []
    },
    {
      "cell_type": "code",
      "source": [
        "r"
      ],
      "metadata": {
        "id": "GYy0RX_Tmseg",
        "outputId": "80e5c877-6585-4b6f-bb31-182d9c8bbbf6",
        "colab": {
          "base_uri": "https://localhost:8080/"
        }
      },
      "execution_count": 64,
      "outputs": [
        {
          "output_type": "execute_result",
          "data": {
            "text/plain": [
              "[1, 7, 3, 4, 2, 6, 9, 3, 3, 4, 6, 6, 9, 5]"
            ]
          },
          "metadata": {},
          "execution_count": 64
        }
      ]
    },
    {
      "cell_type": "code",
      "source": [
        "srts = ['0', '1']\n",
        "srts"
      ],
      "metadata": {
        "id": "pHdwceslnxul",
        "outputId": "ef0bf364-16f8-4699-965b-ecc2601ee3c2",
        "colab": {
          "base_uri": "https://localhost:8080/"
        }
      },
      "execution_count": 69,
      "outputs": [
        {
          "output_type": "execute_result",
          "data": {
            "text/plain": [
              "['0', '1']"
            ]
          },
          "metadata": {},
          "execution_count": 69
        }
      ]
    },
    {
      "cell_type": "code",
      "source": [
        "[int(x) for x in srts]"
      ],
      "metadata": {
        "id": "hZjUPDEgn4lM",
        "outputId": "d0183a0d-edb3-43bc-c536-0cfb0ed1efaa",
        "colab": {
          "base_uri": "https://localhost:8080/"
        }
      },
      "execution_count": 70,
      "outputs": [
        {
          "output_type": "execute_result",
          "data": {
            "text/plain": [
              "[0, 1]"
            ]
          },
          "metadata": {},
          "execution_count": 70
        }
      ]
    },
    {
      "cell_type": "code",
      "source": [
        "list(map(int, srts))"
      ],
      "metadata": {
        "id": "SFCoyFCIoQ9V",
        "outputId": "0e298832-b38d-40dc-c1f0-64a52d97318b",
        "colab": {
          "base_uri": "https://localhost:8080/"
        }
      },
      "execution_count": 71,
      "outputs": [
        {
          "output_type": "execute_result",
          "data": {
            "text/plain": [
              "[0, 1]"
            ]
          },
          "metadata": {},
          "execution_count": 71
        }
      ]
    },
    {
      "cell_type": "code",
      "source": [
        "def func(a=1, b=4, c=1):\n",
        "  print(a, b, c)\n",
        "\n",
        "func(b=\"6\", a=None)\n",
        "\n",
        "reponse\n",
        "func(d=3, b=1)\n",
        "func(1,1,3)"
      ],
      "metadata": {
        "id": "-Yi37YkOoltN",
        "outputId": "31c30c8a-d84f-454d-fd92-0ac7c7b9e80b",
        "colab": {
          "base_uri": "https://localhost:8080/"
        }
      },
      "execution_count": 82,
      "outputs": [
        {
          "output_type": "stream",
          "name": "stdout",
          "text": [
            "None 6 1\n"
          ]
        }
      ]
    },
    {
      "cell_type": "code",
      "source": [
        "arr[len(arr)-1]\n",
        "arr[-1]"
      ],
      "metadata": {
        "id": "9wpW73hyrSEC",
        "outputId": "d1fe7ce2-a7ce-4f9f-89d2-2a368d36f6ff",
        "colab": {
          "base_uri": "https://localhost:8080/"
        }
      },
      "execution_count": 92,
      "outputs": [
        {
          "output_type": "execute_result",
          "data": {
            "text/plain": [
              "3"
            ]
          },
          "metadata": {},
          "execution_count": 92
        }
      ]
    }
  ],
  "metadata": {
    "colab": {
      "collapsed_sections": [],
      "name": "Bienvenue dans Colaboratory",
      "provenance": [],
      "include_colab_link": true
    },
    "kernelspec": {
      "display_name": "Python 3",
      "name": "python3"
    }
  },
  "nbformat": 4,
  "nbformat_minor": 0
}